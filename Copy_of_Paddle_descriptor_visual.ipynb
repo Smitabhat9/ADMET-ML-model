{
  "nbformat": 4,
  "nbformat_minor": 0,
  "metadata": {
    "colab": {
      "provenance": []
    },
    "kernelspec": {
      "name": "python3",
      "display_name": "Python 3"
    },
    "language_info": {
      "name": "python"
    }
  },
  "cells": [
    {
      "cell_type": "code",
      "execution_count": null,
      "metadata": {
        "id": "_JH04dR9cS9O"
      },
      "outputs": [],
      "source": [
        "import pandas as pd\n",
        "import numpy as np\n",
        "import seaborn as sns\n",
        "import matplotlib.pyplot as plt\n",
        "%matplotlib inline"
      ]
    },
    {
      "cell_type": "markdown",
      "source": [
        "Preparation of fingerprint present in XML file"
      ],
      "metadata": {
        "id": "0eAxmrLAdwkM"
      }
    },
    {
      "cell_type": "markdown",
      "source": [
        "Preparation of fingerprint present in XML file"
      ],
      "metadata": {
        "id": "TEvhwQKzdxfk"
      }
    },
    {
      "cell_type": "code",
      "source": [
        "! wget https://github.com/dataprofessor/padel/raw/main/fingerprints_xml.zip\n",
        "! unzip -o fingerprints_xml.zip"
      ],
      "metadata": {
        "colab": {
          "base_uri": "https://localhost:8080/"
        },
        "id": "ZcD_2vKCd1PU",
        "outputId": "0c180fa4-8ab0-4602-af45-b2959addc819"
      },
      "execution_count": null,
      "outputs": [
        {
          "output_type": "stream",
          "name": "stdout",
          "text": [
            "--2025-02-11 21:30:15--  https://github.com/dataprofessor/padel/raw/main/fingerprints_xml.zip\n",
            "Resolving github.com (github.com)... 140.82.114.4\n",
            "Connecting to github.com (github.com)|140.82.114.4|:443... connected.\n",
            "HTTP request sent, awaiting response... 302 Found\n",
            "Location: https://raw.githubusercontent.com/dataprofessor/padel/main/fingerprints_xml.zip [following]\n",
            "--2025-02-11 21:30:15--  https://raw.githubusercontent.com/dataprofessor/padel/main/fingerprints_xml.zip\n",
            "Resolving raw.githubusercontent.com (raw.githubusercontent.com)... 185.199.108.133, 185.199.109.133, 185.199.110.133, ...\n",
            "Connecting to raw.githubusercontent.com (raw.githubusercontent.com)|185.199.108.133|:443... connected.\n",
            "HTTP request sent, awaiting response... 200 OK\n",
            "Length: 10871 (11K) [application/zip]\n",
            "Saving to: ‘fingerprints_xml.zip.1’\n",
            "\n",
            "fingerprints_xml.zi 100%[===================>]  10.62K  --.-KB/s    in 0s      \n",
            "\n",
            "2025-02-11 21:30:15 (74.6 MB/s) - ‘fingerprints_xml.zip.1’ saved [10871/10871]\n",
            "\n",
            "Archive:  fingerprints_xml.zip\n",
            "  inflating: AtomPairs2DFingerprintCount.xml  \n",
            "  inflating: AtomPairs2DFingerprinter.xml  \n",
            "  inflating: EStateFingerprinter.xml  \n",
            "  inflating: ExtendedFingerprinter.xml  \n",
            "  inflating: Fingerprinter.xml       \n",
            "  inflating: GraphOnlyFingerprinter.xml  \n",
            "  inflating: KlekotaRothFingerprintCount.xml  \n",
            "  inflating: KlekotaRothFingerprinter.xml  \n",
            "  inflating: MACCSFingerprinter.xml  \n",
            "  inflating: PubchemFingerprinter.xml  \n",
            "  inflating: SubstructureFingerprintCount.xml  \n",
            "  inflating: SubstructureFingerprinter.xml  \n"
          ]
        }
      ]
    },
    {
      "cell_type": "code",
      "source": [
        "#import glob to read xml file\n",
        "import glob\n",
        "xml_files = glob.glob(\"*.xml\")\n",
        "xml_files.sort()\n",
        "xml_files"
      ],
      "metadata": {
        "colab": {
          "base_uri": "https://localhost:8080/"
        },
        "id": "9C3M28bRd5PE",
        "outputId": "5bc28490-aaa6-4fe8-c088-bec6bb3057d1"
      },
      "execution_count": null,
      "outputs": [
        {
          "output_type": "execute_result",
          "data": {
            "text/plain": [
              "['AtomPairs2DFingerprintCount.xml',\n",
              " 'AtomPairs2DFingerprinter.xml',\n",
              " 'EStateFingerprinter.xml',\n",
              " 'ExtendedFingerprinter.xml',\n",
              " 'Fingerprinter.xml',\n",
              " 'GraphOnlyFingerprinter.xml',\n",
              " 'KlekotaRothFingerprintCount.xml',\n",
              " 'KlekotaRothFingerprinter.xml',\n",
              " 'MACCSFingerprinter.xml',\n",
              " 'PubchemFingerprinter.xml',\n",
              " 'SubstructureFingerprintCount.xml',\n",
              " 'SubstructureFingerprinter.xml']"
            ]
          },
          "metadata": {},
          "execution_count": 9
        }
      ]
    },
    {
      "cell_type": "markdown",
      "source": [
        "create a fingerprint list"
      ],
      "metadata": {
        "id": "FwOiVZLreDE8"
      }
    },
    {
      "cell_type": "code",
      "source": [
        "FP_list = ['AtomPairs2DCount',\n",
        " 'AtomPairs2D',\n",
        " 'EState',\n",
        " 'CDKextended',\n",
        " 'CDK',\n",
        " 'CDKgraphonly',\n",
        " 'KlekotaRothCount',\n",
        " 'KlekotaRoth',\n",
        " 'MACCS',\n",
        " 'PubChem',\n",
        " 'SubstructureCount',\n",
        " 'Substructure']"
      ],
      "metadata": {
        "id": "_XqDsUXLeELm"
      },
      "execution_count": null,
      "outputs": []
    },
    {
      "cell_type": "code",
      "source": [
        "#create a dictionary\n",
        "fp = dict(zip(FP_list, xml_files))\n",
        "fp"
      ],
      "metadata": {
        "colab": {
          "base_uri": "https://localhost:8080/"
        },
        "id": "yfid5YRpeMuY",
        "outputId": "9e3f5bbf-5896-47b9-d60f-cbd785689126"
      },
      "execution_count": null,
      "outputs": [
        {
          "output_type": "execute_result",
          "data": {
            "text/plain": [
              "{'AtomPairs2DCount': 'AtomPairs2DFingerprintCount.xml',\n",
              " 'AtomPairs2D': 'AtomPairs2DFingerprinter.xml',\n",
              " 'EState': 'EStateFingerprinter.xml',\n",
              " 'CDKextended': 'ExtendedFingerprinter.xml',\n",
              " 'CDK': 'Fingerprinter.xml',\n",
              " 'CDKgraphonly': 'GraphOnlyFingerprinter.xml',\n",
              " 'KlekotaRothCount': 'KlekotaRothFingerprintCount.xml',\n",
              " 'KlekotaRoth': 'KlekotaRothFingerprinter.xml',\n",
              " 'MACCS': 'MACCSFingerprinter.xml',\n",
              " 'PubChem': 'PubchemFingerprinter.xml',\n",
              " 'SubstructureCount': 'SubstructureFingerprintCount.xml',\n",
              " 'Substructure': 'SubstructureFingerprinter.xml'}"
            ]
          },
          "metadata": {},
          "execution_count": 11
        }
      ]
    },
    {
      "cell_type": "code",
      "source": [
        "df=pd.read_csv('FinalADME..csv')\n",
        "df"
      ],
      "metadata": {
        "colab": {
          "base_uri": "https://localhost:8080/",
          "height": 479
        },
        "id": "_5wOpebSeVJ4",
        "outputId": "0dddeba5-3d58-471d-d6c2-0312f33023f2"
      },
      "execution_count": null,
      "outputs": [
        {
          "output_type": "execute_result",
          "data": {
            "text/plain": [
              "          MW  #Heavy atoms  #Aromatic heavy atoms  Fraction Csp3  \\\n",
              "0     473.44            34                     12           0.30   \n",
              "1     473.44            34                     12           0.30   \n",
              "2     473.44            34                     12           0.30   \n",
              "3     445.43            32                     12           0.32   \n",
              "4     445.43            32                     12           0.32   \n",
              "...      ...           ...                    ...            ...   \n",
              "1910  403.47            30                     12           0.40   \n",
              "1911  337.46            25                      5           0.68   \n",
              "1912  427.52            30                     12           0.36   \n",
              "1913  516.60            37                     12           0.52   \n",
              "1914  403.52            30                     15           0.40   \n",
              "\n",
              "      #Rotatable bonds  #H-bond acceptors  #H-bond donors      MR    TPSA  \\\n",
              "0                   11                  8               7  126.52  219.84   \n",
              "1                   11                  8               7  126.52  219.84   \n",
              "2                   11                  8               7  126.52  219.84   \n",
              "3                   10                  7               8  121.03  211.56   \n",
              "4                   10                  7               8  121.03  211.56   \n",
              "...                ...                ...             ...     ...     ...   \n",
              "1910                 4                  5               0  116.38   48.00   \n",
              "1911                 0                  3               1   98.86   46.26   \n",
              "1912                 8                  5               1  123.36   96.41   \n",
              "1913                10                  8               1  142.60   62.13   \n",
              "1914                 6                  3               1  123.13   46.50   \n",
              "\n",
              "      iLOGP  ...  Lipinski #violations  Ghose #violations  Veber #violations  \\\n",
              "0      0.17  ...                     2                  1                  2   \n",
              "1      0.17  ...                     2                  1                  2   \n",
              "2     -0.45  ...                     2                  1                  2   \n",
              "3      0.42  ...                     2                  1                  1   \n",
              "4      0.32  ...                     2                  1                  1   \n",
              "...     ...  ...                   ...                ...                ...   \n",
              "1910   3.90  ...                     0                  0                  0   \n",
              "1911   3.27  ...                     0                  0                  0   \n",
              "1912   4.08  ...                     0                  0                  0   \n",
              "1913   4.89  ...                     2                  4                  0   \n",
              "1914   3.45  ...                     0                  0                  0   \n",
              "\n",
              "      Egan #violations  Muegge #violations  Bioavailability Score  \\\n",
              "0                    1                   2                   0.11   \n",
              "1                    1                   2                   0.11   \n",
              "2                    1                   2                   0.11   \n",
              "3                    1                   2                   0.11   \n",
              "4                    1                   2                   0.11   \n",
              "...                ...                 ...                    ...   \n",
              "1910                 0                   0                   0.55   \n",
              "1911                 0                   0                   0.55   \n",
              "1912                 0                   0                   0.55   \n",
              "1913                 1                   0                   0.17   \n",
              "1914                 0                   0                   0.55   \n",
              "\n",
              "      PAINS #alerts  Brenk #alerts  Leadlikeness #violations  \\\n",
              "0                 0              1                         2   \n",
              "1                 0              1                         2   \n",
              "2                 0              1                         2   \n",
              "3                 0              0                         2   \n",
              "4                 0              0                         2   \n",
              "...             ...            ...                       ...   \n",
              "1910              0              0                         2   \n",
              "1911              0              1                         1   \n",
              "1912              0              0                         2   \n",
              "1913              0              2                         3   \n",
              "1914              0              0                         2   \n",
              "\n",
              "      Synthetic Accessibility  \n",
              "0                        4.14  \n",
              "1                        4.14  \n",
              "2                        4.14  \n",
              "3                        4.03  \n",
              "4                        4.03  \n",
              "...                       ...  \n",
              "1910                     5.25  \n",
              "1911                     5.50  \n",
              "1912                     3.81  \n",
              "1913                     4.63  \n",
              "1914                     4.30  \n",
              "\n",
              "[1915 rows x 46 columns]"
            ],
            "text/html": [
              "\n",
              "  <div id=\"df-72f1e62d-f801-42f3-943e-84f338468803\" class=\"colab-df-container\">\n",
              "    <div>\n",
              "<style scoped>\n",
              "    .dataframe tbody tr th:only-of-type {\n",
              "        vertical-align: middle;\n",
              "    }\n",
              "\n",
              "    .dataframe tbody tr th {\n",
              "        vertical-align: top;\n",
              "    }\n",
              "\n",
              "    .dataframe thead th {\n",
              "        text-align: right;\n",
              "    }\n",
              "</style>\n",
              "<table border=\"1\" class=\"dataframe\">\n",
              "  <thead>\n",
              "    <tr style=\"text-align: right;\">\n",
              "      <th></th>\n",
              "      <th>MW</th>\n",
              "      <th>#Heavy atoms</th>\n",
              "      <th>#Aromatic heavy atoms</th>\n",
              "      <th>Fraction Csp3</th>\n",
              "      <th>#Rotatable bonds</th>\n",
              "      <th>#H-bond acceptors</th>\n",
              "      <th>#H-bond donors</th>\n",
              "      <th>MR</th>\n",
              "      <th>TPSA</th>\n",
              "      <th>iLOGP</th>\n",
              "      <th>...</th>\n",
              "      <th>Lipinski #violations</th>\n",
              "      <th>Ghose #violations</th>\n",
              "      <th>Veber #violations</th>\n",
              "      <th>Egan #violations</th>\n",
              "      <th>Muegge #violations</th>\n",
              "      <th>Bioavailability Score</th>\n",
              "      <th>PAINS #alerts</th>\n",
              "      <th>Brenk #alerts</th>\n",
              "      <th>Leadlikeness #violations</th>\n",
              "      <th>Synthetic Accessibility</th>\n",
              "    </tr>\n",
              "  </thead>\n",
              "  <tbody>\n",
              "    <tr>\n",
              "      <th>0</th>\n",
              "      <td>473.44</td>\n",
              "      <td>34</td>\n",
              "      <td>12</td>\n",
              "      <td>0.30</td>\n",
              "      <td>11</td>\n",
              "      <td>8</td>\n",
              "      <td>7</td>\n",
              "      <td>126.52</td>\n",
              "      <td>219.84</td>\n",
              "      <td>0.17</td>\n",
              "      <td>...</td>\n",
              "      <td>2</td>\n",
              "      <td>1</td>\n",
              "      <td>2</td>\n",
              "      <td>1</td>\n",
              "      <td>2</td>\n",
              "      <td>0.11</td>\n",
              "      <td>0</td>\n",
              "      <td>1</td>\n",
              "      <td>2</td>\n",
              "      <td>4.14</td>\n",
              "    </tr>\n",
              "    <tr>\n",
              "      <th>1</th>\n",
              "      <td>473.44</td>\n",
              "      <td>34</td>\n",
              "      <td>12</td>\n",
              "      <td>0.30</td>\n",
              "      <td>11</td>\n",
              "      <td>8</td>\n",
              "      <td>7</td>\n",
              "      <td>126.52</td>\n",
              "      <td>219.84</td>\n",
              "      <td>0.17</td>\n",
              "      <td>...</td>\n",
              "      <td>2</td>\n",
              "      <td>1</td>\n",
              "      <td>2</td>\n",
              "      <td>1</td>\n",
              "      <td>2</td>\n",
              "      <td>0.11</td>\n",
              "      <td>0</td>\n",
              "      <td>1</td>\n",
              "      <td>2</td>\n",
              "      <td>4.14</td>\n",
              "    </tr>\n",
              "    <tr>\n",
              "      <th>2</th>\n",
              "      <td>473.44</td>\n",
              "      <td>34</td>\n",
              "      <td>12</td>\n",
              "      <td>0.30</td>\n",
              "      <td>11</td>\n",
              "      <td>8</td>\n",
              "      <td>7</td>\n",
              "      <td>126.52</td>\n",
              "      <td>219.84</td>\n",
              "      <td>-0.45</td>\n",
              "      <td>...</td>\n",
              "      <td>2</td>\n",
              "      <td>1</td>\n",
              "      <td>2</td>\n",
              "      <td>1</td>\n",
              "      <td>2</td>\n",
              "      <td>0.11</td>\n",
              "      <td>0</td>\n",
              "      <td>1</td>\n",
              "      <td>2</td>\n",
              "      <td>4.14</td>\n",
              "    </tr>\n",
              "    <tr>\n",
              "      <th>3</th>\n",
              "      <td>445.43</td>\n",
              "      <td>32</td>\n",
              "      <td>12</td>\n",
              "      <td>0.32</td>\n",
              "      <td>10</td>\n",
              "      <td>7</td>\n",
              "      <td>8</td>\n",
              "      <td>121.03</td>\n",
              "      <td>211.56</td>\n",
              "      <td>0.42</td>\n",
              "      <td>...</td>\n",
              "      <td>2</td>\n",
              "      <td>1</td>\n",
              "      <td>1</td>\n",
              "      <td>1</td>\n",
              "      <td>2</td>\n",
              "      <td>0.11</td>\n",
              "      <td>0</td>\n",
              "      <td>0</td>\n",
              "      <td>2</td>\n",
              "      <td>4.03</td>\n",
              "    </tr>\n",
              "    <tr>\n",
              "      <th>4</th>\n",
              "      <td>445.43</td>\n",
              "      <td>32</td>\n",
              "      <td>12</td>\n",
              "      <td>0.32</td>\n",
              "      <td>10</td>\n",
              "      <td>7</td>\n",
              "      <td>8</td>\n",
              "      <td>121.03</td>\n",
              "      <td>211.56</td>\n",
              "      <td>0.32</td>\n",
              "      <td>...</td>\n",
              "      <td>2</td>\n",
              "      <td>1</td>\n",
              "      <td>1</td>\n",
              "      <td>1</td>\n",
              "      <td>2</td>\n",
              "      <td>0.11</td>\n",
              "      <td>0</td>\n",
              "      <td>0</td>\n",
              "      <td>2</td>\n",
              "      <td>4.03</td>\n",
              "    </tr>\n",
              "    <tr>\n",
              "      <th>...</th>\n",
              "      <td>...</td>\n",
              "      <td>...</td>\n",
              "      <td>...</td>\n",
              "      <td>...</td>\n",
              "      <td>...</td>\n",
              "      <td>...</td>\n",
              "      <td>...</td>\n",
              "      <td>...</td>\n",
              "      <td>...</td>\n",
              "      <td>...</td>\n",
              "      <td>...</td>\n",
              "      <td>...</td>\n",
              "      <td>...</td>\n",
              "      <td>...</td>\n",
              "      <td>...</td>\n",
              "      <td>...</td>\n",
              "      <td>...</td>\n",
              "      <td>...</td>\n",
              "      <td>...</td>\n",
              "      <td>...</td>\n",
              "      <td>...</td>\n",
              "    </tr>\n",
              "    <tr>\n",
              "      <th>1910</th>\n",
              "      <td>403.47</td>\n",
              "      <td>30</td>\n",
              "      <td>12</td>\n",
              "      <td>0.40</td>\n",
              "      <td>4</td>\n",
              "      <td>5</td>\n",
              "      <td>0</td>\n",
              "      <td>116.38</td>\n",
              "      <td>48.00</td>\n",
              "      <td>3.90</td>\n",
              "      <td>...</td>\n",
              "      <td>0</td>\n",
              "      <td>0</td>\n",
              "      <td>0</td>\n",
              "      <td>0</td>\n",
              "      <td>0</td>\n",
              "      <td>0.55</td>\n",
              "      <td>0</td>\n",
              "      <td>0</td>\n",
              "      <td>2</td>\n",
              "      <td>5.25</td>\n",
              "    </tr>\n",
              "    <tr>\n",
              "      <th>1911</th>\n",
              "      <td>337.46</td>\n",
              "      <td>25</td>\n",
              "      <td>5</td>\n",
              "      <td>0.68</td>\n",
              "      <td>0</td>\n",
              "      <td>3</td>\n",
              "      <td>1</td>\n",
              "      <td>98.86</td>\n",
              "      <td>46.26</td>\n",
              "      <td>3.27</td>\n",
              "      <td>...</td>\n",
              "      <td>0</td>\n",
              "      <td>0</td>\n",
              "      <td>0</td>\n",
              "      <td>0</td>\n",
              "      <td>0</td>\n",
              "      <td>0.55</td>\n",
              "      <td>0</td>\n",
              "      <td>1</td>\n",
              "      <td>1</td>\n",
              "      <td>5.50</td>\n",
              "    </tr>\n",
              "    <tr>\n",
              "      <th>1912</th>\n",
              "      <td>427.52</td>\n",
              "      <td>30</td>\n",
              "      <td>12</td>\n",
              "      <td>0.36</td>\n",
              "      <td>8</td>\n",
              "      <td>5</td>\n",
              "      <td>1</td>\n",
              "      <td>123.36</td>\n",
              "      <td>96.41</td>\n",
              "      <td>4.08</td>\n",
              "      <td>...</td>\n",
              "      <td>0</td>\n",
              "      <td>0</td>\n",
              "      <td>0</td>\n",
              "      <td>0</td>\n",
              "      <td>0</td>\n",
              "      <td>0.55</td>\n",
              "      <td>0</td>\n",
              "      <td>0</td>\n",
              "      <td>2</td>\n",
              "      <td>3.81</td>\n",
              "    </tr>\n",
              "    <tr>\n",
              "      <th>1913</th>\n",
              "      <td>516.60</td>\n",
              "      <td>37</td>\n",
              "      <td>12</td>\n",
              "      <td>0.52</td>\n",
              "      <td>10</td>\n",
              "      <td>8</td>\n",
              "      <td>1</td>\n",
              "      <td>142.60</td>\n",
              "      <td>62.13</td>\n",
              "      <td>4.89</td>\n",
              "      <td>...</td>\n",
              "      <td>2</td>\n",
              "      <td>4</td>\n",
              "      <td>0</td>\n",
              "      <td>1</td>\n",
              "      <td>0</td>\n",
              "      <td>0.17</td>\n",
              "      <td>0</td>\n",
              "      <td>2</td>\n",
              "      <td>3</td>\n",
              "      <td>4.63</td>\n",
              "    </tr>\n",
              "    <tr>\n",
              "      <th>1914</th>\n",
              "      <td>403.52</td>\n",
              "      <td>30</td>\n",
              "      <td>15</td>\n",
              "      <td>0.40</td>\n",
              "      <td>6</td>\n",
              "      <td>3</td>\n",
              "      <td>1</td>\n",
              "      <td>123.13</td>\n",
              "      <td>46.50</td>\n",
              "      <td>3.45</td>\n",
              "      <td>...</td>\n",
              "      <td>0</td>\n",
              "      <td>0</td>\n",
              "      <td>0</td>\n",
              "      <td>0</td>\n",
              "      <td>0</td>\n",
              "      <td>0.55</td>\n",
              "      <td>0</td>\n",
              "      <td>0</td>\n",
              "      <td>2</td>\n",
              "      <td>4.30</td>\n",
              "    </tr>\n",
              "  </tbody>\n",
              "</table>\n",
              "<p>1915 rows × 46 columns</p>\n",
              "</div>\n",
              "    <div class=\"colab-df-buttons\">\n",
              "\n",
              "  <div class=\"colab-df-container\">\n",
              "    <button class=\"colab-df-convert\" onclick=\"convertToInteractive('df-72f1e62d-f801-42f3-943e-84f338468803')\"\n",
              "            title=\"Convert this dataframe to an interactive table.\"\n",
              "            style=\"display:none;\">\n",
              "\n",
              "  <svg xmlns=\"http://www.w3.org/2000/svg\" height=\"24px\" viewBox=\"0 -960 960 960\">\n",
              "    <path d=\"M120-120v-720h720v720H120Zm60-500h600v-160H180v160Zm220 220h160v-160H400v160Zm0 220h160v-160H400v160ZM180-400h160v-160H180v160Zm440 0h160v-160H620v160ZM180-180h160v-160H180v160Zm440 0h160v-160H620v160Z\"/>\n",
              "  </svg>\n",
              "    </button>\n",
              "\n",
              "  <style>\n",
              "    .colab-df-container {\n",
              "      display:flex;\n",
              "      gap: 12px;\n",
              "    }\n",
              "\n",
              "    .colab-df-convert {\n",
              "      background-color: #E8F0FE;\n",
              "      border: none;\n",
              "      border-radius: 50%;\n",
              "      cursor: pointer;\n",
              "      display: none;\n",
              "      fill: #1967D2;\n",
              "      height: 32px;\n",
              "      padding: 0 0 0 0;\n",
              "      width: 32px;\n",
              "    }\n",
              "\n",
              "    .colab-df-convert:hover {\n",
              "      background-color: #E2EBFA;\n",
              "      box-shadow: 0px 1px 2px rgba(60, 64, 67, 0.3), 0px 1px 3px 1px rgba(60, 64, 67, 0.15);\n",
              "      fill: #174EA6;\n",
              "    }\n",
              "\n",
              "    .colab-df-buttons div {\n",
              "      margin-bottom: 4px;\n",
              "    }\n",
              "\n",
              "    [theme=dark] .colab-df-convert {\n",
              "      background-color: #3B4455;\n",
              "      fill: #D2E3FC;\n",
              "    }\n",
              "\n",
              "    [theme=dark] .colab-df-convert:hover {\n",
              "      background-color: #434B5C;\n",
              "      box-shadow: 0px 1px 3px 1px rgba(0, 0, 0, 0.15);\n",
              "      filter: drop-shadow(0px 1px 2px rgba(0, 0, 0, 0.3));\n",
              "      fill: #FFFFFF;\n",
              "    }\n",
              "  </style>\n",
              "\n",
              "    <script>\n",
              "      const buttonEl =\n",
              "        document.querySelector('#df-72f1e62d-f801-42f3-943e-84f338468803 button.colab-df-convert');\n",
              "      buttonEl.style.display =\n",
              "        google.colab.kernel.accessAllowed ? 'block' : 'none';\n",
              "\n",
              "      async function convertToInteractive(key) {\n",
              "        const element = document.querySelector('#df-72f1e62d-f801-42f3-943e-84f338468803');\n",
              "        const dataTable =\n",
              "          await google.colab.kernel.invokeFunction('convertToInteractive',\n",
              "                                                    [key], {});\n",
              "        if (!dataTable) return;\n",
              "\n",
              "        const docLinkHtml = 'Like what you see? Visit the ' +\n",
              "          '<a target=\"_blank\" href=https://colab.research.google.com/notebooks/data_table.ipynb>data table notebook</a>'\n",
              "          + ' to learn more about interactive tables.';\n",
              "        element.innerHTML = '';\n",
              "        dataTable['output_type'] = 'display_data';\n",
              "        await google.colab.output.renderOutput(dataTable, element);\n",
              "        const docLink = document.createElement('div');\n",
              "        docLink.innerHTML = docLinkHtml;\n",
              "        element.appendChild(docLink);\n",
              "      }\n",
              "    </script>\n",
              "  </div>\n",
              "\n",
              "\n",
              "<div id=\"df-e05e3088-f37c-4e31-bd0b-15ef9326e98d\">\n",
              "  <button class=\"colab-df-quickchart\" onclick=\"quickchart('df-e05e3088-f37c-4e31-bd0b-15ef9326e98d')\"\n",
              "            title=\"Suggest charts\"\n",
              "            style=\"display:none;\">\n",
              "\n",
              "<svg xmlns=\"http://www.w3.org/2000/svg\" height=\"24px\"viewBox=\"0 0 24 24\"\n",
              "     width=\"24px\">\n",
              "    <g>\n",
              "        <path d=\"M19 3H5c-1.1 0-2 .9-2 2v14c0 1.1.9 2 2 2h14c1.1 0 2-.9 2-2V5c0-1.1-.9-2-2-2zM9 17H7v-7h2v7zm4 0h-2V7h2v10zm4 0h-2v-4h2v4z\"/>\n",
              "    </g>\n",
              "</svg>\n",
              "  </button>\n",
              "\n",
              "<style>\n",
              "  .colab-df-quickchart {\n",
              "      --bg-color: #E8F0FE;\n",
              "      --fill-color: #1967D2;\n",
              "      --hover-bg-color: #E2EBFA;\n",
              "      --hover-fill-color: #174EA6;\n",
              "      --disabled-fill-color: #AAA;\n",
              "      --disabled-bg-color: #DDD;\n",
              "  }\n",
              "\n",
              "  [theme=dark] .colab-df-quickchart {\n",
              "      --bg-color: #3B4455;\n",
              "      --fill-color: #D2E3FC;\n",
              "      --hover-bg-color: #434B5C;\n",
              "      --hover-fill-color: #FFFFFF;\n",
              "      --disabled-bg-color: #3B4455;\n",
              "      --disabled-fill-color: #666;\n",
              "  }\n",
              "\n",
              "  .colab-df-quickchart {\n",
              "    background-color: var(--bg-color);\n",
              "    border: none;\n",
              "    border-radius: 50%;\n",
              "    cursor: pointer;\n",
              "    display: none;\n",
              "    fill: var(--fill-color);\n",
              "    height: 32px;\n",
              "    padding: 0;\n",
              "    width: 32px;\n",
              "  }\n",
              "\n",
              "  .colab-df-quickchart:hover {\n",
              "    background-color: var(--hover-bg-color);\n",
              "    box-shadow: 0 1px 2px rgba(60, 64, 67, 0.3), 0 1px 3px 1px rgba(60, 64, 67, 0.15);\n",
              "    fill: var(--button-hover-fill-color);\n",
              "  }\n",
              "\n",
              "  .colab-df-quickchart-complete:disabled,\n",
              "  .colab-df-quickchart-complete:disabled:hover {\n",
              "    background-color: var(--disabled-bg-color);\n",
              "    fill: var(--disabled-fill-color);\n",
              "    box-shadow: none;\n",
              "  }\n",
              "\n",
              "  .colab-df-spinner {\n",
              "    border: 2px solid var(--fill-color);\n",
              "    border-color: transparent;\n",
              "    border-bottom-color: var(--fill-color);\n",
              "    animation:\n",
              "      spin 1s steps(1) infinite;\n",
              "  }\n",
              "\n",
              "  @keyframes spin {\n",
              "    0% {\n",
              "      border-color: transparent;\n",
              "      border-bottom-color: var(--fill-color);\n",
              "      border-left-color: var(--fill-color);\n",
              "    }\n",
              "    20% {\n",
              "      border-color: transparent;\n",
              "      border-left-color: var(--fill-color);\n",
              "      border-top-color: var(--fill-color);\n",
              "    }\n",
              "    30% {\n",
              "      border-color: transparent;\n",
              "      border-left-color: var(--fill-color);\n",
              "      border-top-color: var(--fill-color);\n",
              "      border-right-color: var(--fill-color);\n",
              "    }\n",
              "    40% {\n",
              "      border-color: transparent;\n",
              "      border-right-color: var(--fill-color);\n",
              "      border-top-color: var(--fill-color);\n",
              "    }\n",
              "    60% {\n",
              "      border-color: transparent;\n",
              "      border-right-color: var(--fill-color);\n",
              "    }\n",
              "    80% {\n",
              "      border-color: transparent;\n",
              "      border-right-color: var(--fill-color);\n",
              "      border-bottom-color: var(--fill-color);\n",
              "    }\n",
              "    90% {\n",
              "      border-color: transparent;\n",
              "      border-bottom-color: var(--fill-color);\n",
              "    }\n",
              "  }\n",
              "</style>\n",
              "\n",
              "  <script>\n",
              "    async function quickchart(key) {\n",
              "      const quickchartButtonEl =\n",
              "        document.querySelector('#' + key + ' button');\n",
              "      quickchartButtonEl.disabled = true;  // To prevent multiple clicks.\n",
              "      quickchartButtonEl.classList.add('colab-df-spinner');\n",
              "      try {\n",
              "        const charts = await google.colab.kernel.invokeFunction(\n",
              "            'suggestCharts', [key], {});\n",
              "      } catch (error) {\n",
              "        console.error('Error during call to suggestCharts:', error);\n",
              "      }\n",
              "      quickchartButtonEl.classList.remove('colab-df-spinner');\n",
              "      quickchartButtonEl.classList.add('colab-df-quickchart-complete');\n",
              "    }\n",
              "    (() => {\n",
              "      let quickchartButtonEl =\n",
              "        document.querySelector('#df-e05e3088-f37c-4e31-bd0b-15ef9326e98d button');\n",
              "      quickchartButtonEl.style.display =\n",
              "        google.colab.kernel.accessAllowed ? 'block' : 'none';\n",
              "    })();\n",
              "  </script>\n",
              "</div>\n",
              "\n",
              "  <div id=\"id_c3fe3809-71c2-499d-a159-f57de197f3d3\">\n",
              "    <style>\n",
              "      .colab-df-generate {\n",
              "        background-color: #E8F0FE;\n",
              "        border: none;\n",
              "        border-radius: 50%;\n",
              "        cursor: pointer;\n",
              "        display: none;\n",
              "        fill: #1967D2;\n",
              "        height: 32px;\n",
              "        padding: 0 0 0 0;\n",
              "        width: 32px;\n",
              "      }\n",
              "\n",
              "      .colab-df-generate:hover {\n",
              "        background-color: #E2EBFA;\n",
              "        box-shadow: 0px 1px 2px rgba(60, 64, 67, 0.3), 0px 1px 3px 1px rgba(60, 64, 67, 0.15);\n",
              "        fill: #174EA6;\n",
              "      }\n",
              "\n",
              "      [theme=dark] .colab-df-generate {\n",
              "        background-color: #3B4455;\n",
              "        fill: #D2E3FC;\n",
              "      }\n",
              "\n",
              "      [theme=dark] .colab-df-generate:hover {\n",
              "        background-color: #434B5C;\n",
              "        box-shadow: 0px 1px 3px 1px rgba(0, 0, 0, 0.15);\n",
              "        filter: drop-shadow(0px 1px 2px rgba(0, 0, 0, 0.3));\n",
              "        fill: #FFFFFF;\n",
              "      }\n",
              "    </style>\n",
              "    <button class=\"colab-df-generate\" onclick=\"generateWithVariable('df')\"\n",
              "            title=\"Generate code using this dataframe.\"\n",
              "            style=\"display:none;\">\n",
              "\n",
              "  <svg xmlns=\"http://www.w3.org/2000/svg\" height=\"24px\"viewBox=\"0 0 24 24\"\n",
              "       width=\"24px\">\n",
              "    <path d=\"M7,19H8.4L18.45,9,17,7.55,7,17.6ZM5,21V16.75L18.45,3.32a2,2,0,0,1,2.83,0l1.4,1.43a1.91,1.91,0,0,1,.58,1.4,1.91,1.91,0,0,1-.58,1.4L9.25,21ZM18.45,9,17,7.55Zm-12,3A5.31,5.31,0,0,0,4.9,8.1,5.31,5.31,0,0,0,1,6.5,5.31,5.31,0,0,0,4.9,4.9,5.31,5.31,0,0,0,6.5,1,5.31,5.31,0,0,0,8.1,4.9,5.31,5.31,0,0,0,12,6.5,5.46,5.46,0,0,0,6.5,12Z\"/>\n",
              "  </svg>\n",
              "    </button>\n",
              "    <script>\n",
              "      (() => {\n",
              "      const buttonEl =\n",
              "        document.querySelector('#id_c3fe3809-71c2-499d-a159-f57de197f3d3 button.colab-df-generate');\n",
              "      buttonEl.style.display =\n",
              "        google.colab.kernel.accessAllowed ? 'block' : 'none';\n",
              "\n",
              "      buttonEl.onclick = () => {\n",
              "        google.colab.notebook.generateWithVariable('df');\n",
              "      }\n",
              "      })();\n",
              "    </script>\n",
              "  </div>\n",
              "\n",
              "    </div>\n",
              "  </div>\n"
            ],
            "application/vnd.google.colaboratory.intrinsic+json": {
              "type": "dataframe",
              "variable_name": "df"
            }
          },
          "metadata": {},
          "execution_count": 12
        }
      ]
    },
    {
      "cell_type": "markdown",
      "source": [
        "Prepare dataset subset as an input for PadelPy"
      ],
      "metadata": {
        "id": "lWKZIumdekKS"
      }
    },
    {
      "cell_type": "code",
      "source": [
        "df2 = pd.concat( [df['canonical_smiles'],df['MW']], axis=1 )\n",
        "df2.to_csv('molecule.smi', sep='\\t', index=False, header=False)\n",
        "df2"
      ],
      "metadata": {
        "id": "d5zKZzqfel17",
        "outputId": "af113f28-951a-4952-ba1a-ed5b4a0a2043",
        "colab": {
          "base_uri": "https://localhost:8080/",
          "height": 561
        }
      },
      "execution_count": null,
      "outputs": [
        {
          "output_type": "error",
          "ename": "KeyError",
          "evalue": "'canonical_smiles'",
          "traceback": [
            "\u001b[0;31m---------------------------------------------------------------------------\u001b[0m",
            "\u001b[0;31mKeyError\u001b[0m                                  Traceback (most recent call last)",
            "\u001b[0;32m/usr/local/lib/python3.11/dist-packages/pandas/core/indexes/base.py\u001b[0m in \u001b[0;36mget_loc\u001b[0;34m(self, key)\u001b[0m\n\u001b[1;32m   3804\u001b[0m         \u001b[0;32mtry\u001b[0m\u001b[0;34m:\u001b[0m\u001b[0;34m\u001b[0m\u001b[0;34m\u001b[0m\u001b[0m\n\u001b[0;32m-> 3805\u001b[0;31m             \u001b[0;32mreturn\u001b[0m \u001b[0mself\u001b[0m\u001b[0;34m.\u001b[0m\u001b[0m_engine\u001b[0m\u001b[0;34m.\u001b[0m\u001b[0mget_loc\u001b[0m\u001b[0;34m(\u001b[0m\u001b[0mcasted_key\u001b[0m\u001b[0;34m)\u001b[0m\u001b[0;34m\u001b[0m\u001b[0;34m\u001b[0m\u001b[0m\n\u001b[0m\u001b[1;32m   3806\u001b[0m         \u001b[0;32mexcept\u001b[0m \u001b[0mKeyError\u001b[0m \u001b[0;32mas\u001b[0m \u001b[0merr\u001b[0m\u001b[0;34m:\u001b[0m\u001b[0;34m\u001b[0m\u001b[0;34m\u001b[0m\u001b[0m\n",
            "\u001b[0;32mindex.pyx\u001b[0m in \u001b[0;36mpandas._libs.index.IndexEngine.get_loc\u001b[0;34m()\u001b[0m\n",
            "\u001b[0;32mindex.pyx\u001b[0m in \u001b[0;36mpandas._libs.index.IndexEngine.get_loc\u001b[0;34m()\u001b[0m\n",
            "\u001b[0;32mpandas/_libs/hashtable_class_helper.pxi\u001b[0m in \u001b[0;36mpandas._libs.hashtable.PyObjectHashTable.get_item\u001b[0;34m()\u001b[0m\n",
            "\u001b[0;32mpandas/_libs/hashtable_class_helper.pxi\u001b[0m in \u001b[0;36mpandas._libs.hashtable.PyObjectHashTable.get_item\u001b[0;34m()\u001b[0m\n",
            "\u001b[0;31mKeyError\u001b[0m: 'canonical_smiles'",
            "\nThe above exception was the direct cause of the following exception:\n",
            "\u001b[0;31mKeyError\u001b[0m                                  Traceback (most recent call last)",
            "\u001b[0;32m<ipython-input-13-466ab5800ae4>\u001b[0m in \u001b[0;36m<cell line: 0>\u001b[0;34m()\u001b[0m\n\u001b[0;32m----> 1\u001b[0;31m \u001b[0mdf2\u001b[0m \u001b[0;34m=\u001b[0m \u001b[0mpd\u001b[0m\u001b[0;34m.\u001b[0m\u001b[0mconcat\u001b[0m\u001b[0;34m(\u001b[0m \u001b[0;34m[\u001b[0m\u001b[0mdf\u001b[0m\u001b[0;34m[\u001b[0m\u001b[0;34m'canonical_smiles'\u001b[0m\u001b[0;34m]\u001b[0m\u001b[0;34m,\u001b[0m\u001b[0mdf\u001b[0m\u001b[0;34m[\u001b[0m\u001b[0;34m'MW'\u001b[0m\u001b[0;34m]\u001b[0m\u001b[0;34m]\u001b[0m\u001b[0;34m,\u001b[0m \u001b[0maxis\u001b[0m\u001b[0;34m=\u001b[0m\u001b[0;36m1\u001b[0m \u001b[0;34m)\u001b[0m\u001b[0;34m\u001b[0m\u001b[0;34m\u001b[0m\u001b[0m\n\u001b[0m\u001b[1;32m      2\u001b[0m \u001b[0mdf2\u001b[0m\u001b[0;34m.\u001b[0m\u001b[0mto_csv\u001b[0m\u001b[0;34m(\u001b[0m\u001b[0;34m'molecule.smi'\u001b[0m\u001b[0;34m,\u001b[0m \u001b[0msep\u001b[0m\u001b[0;34m=\u001b[0m\u001b[0;34m'\\t'\u001b[0m\u001b[0;34m,\u001b[0m \u001b[0mindex\u001b[0m\u001b[0;34m=\u001b[0m\u001b[0;32mFalse\u001b[0m\u001b[0;34m,\u001b[0m \u001b[0mheader\u001b[0m\u001b[0;34m=\u001b[0m\u001b[0;32mFalse\u001b[0m\u001b[0;34m)\u001b[0m\u001b[0;34m\u001b[0m\u001b[0;34m\u001b[0m\u001b[0m\n\u001b[1;32m      3\u001b[0m \u001b[0mdf2\u001b[0m\u001b[0;34m\u001b[0m\u001b[0;34m\u001b[0m\u001b[0m\n",
            "\u001b[0;32m/usr/local/lib/python3.11/dist-packages/pandas/core/frame.py\u001b[0m in \u001b[0;36m__getitem__\u001b[0;34m(self, key)\u001b[0m\n\u001b[1;32m   4100\u001b[0m             \u001b[0;32mif\u001b[0m \u001b[0mself\u001b[0m\u001b[0;34m.\u001b[0m\u001b[0mcolumns\u001b[0m\u001b[0;34m.\u001b[0m\u001b[0mnlevels\u001b[0m \u001b[0;34m>\u001b[0m \u001b[0;36m1\u001b[0m\u001b[0;34m:\u001b[0m\u001b[0;34m\u001b[0m\u001b[0;34m\u001b[0m\u001b[0m\n\u001b[1;32m   4101\u001b[0m                 \u001b[0;32mreturn\u001b[0m \u001b[0mself\u001b[0m\u001b[0;34m.\u001b[0m\u001b[0m_getitem_multilevel\u001b[0m\u001b[0;34m(\u001b[0m\u001b[0mkey\u001b[0m\u001b[0;34m)\u001b[0m\u001b[0;34m\u001b[0m\u001b[0;34m\u001b[0m\u001b[0m\n\u001b[0;32m-> 4102\u001b[0;31m             \u001b[0mindexer\u001b[0m \u001b[0;34m=\u001b[0m \u001b[0mself\u001b[0m\u001b[0;34m.\u001b[0m\u001b[0mcolumns\u001b[0m\u001b[0;34m.\u001b[0m\u001b[0mget_loc\u001b[0m\u001b[0;34m(\u001b[0m\u001b[0mkey\u001b[0m\u001b[0;34m)\u001b[0m\u001b[0;34m\u001b[0m\u001b[0;34m\u001b[0m\u001b[0m\n\u001b[0m\u001b[1;32m   4103\u001b[0m             \u001b[0;32mif\u001b[0m \u001b[0mis_integer\u001b[0m\u001b[0;34m(\u001b[0m\u001b[0mindexer\u001b[0m\u001b[0;34m)\u001b[0m\u001b[0;34m:\u001b[0m\u001b[0;34m\u001b[0m\u001b[0;34m\u001b[0m\u001b[0m\n\u001b[1;32m   4104\u001b[0m                 \u001b[0mindexer\u001b[0m \u001b[0;34m=\u001b[0m \u001b[0;34m[\u001b[0m\u001b[0mindexer\u001b[0m\u001b[0;34m]\u001b[0m\u001b[0;34m\u001b[0m\u001b[0;34m\u001b[0m\u001b[0m\n",
            "\u001b[0;32m/usr/local/lib/python3.11/dist-packages/pandas/core/indexes/base.py\u001b[0m in \u001b[0;36mget_loc\u001b[0;34m(self, key)\u001b[0m\n\u001b[1;32m   3810\u001b[0m             ):\n\u001b[1;32m   3811\u001b[0m                 \u001b[0;32mraise\u001b[0m \u001b[0mInvalidIndexError\u001b[0m\u001b[0;34m(\u001b[0m\u001b[0mkey\u001b[0m\u001b[0;34m)\u001b[0m\u001b[0;34m\u001b[0m\u001b[0;34m\u001b[0m\u001b[0m\n\u001b[0;32m-> 3812\u001b[0;31m             \u001b[0;32mraise\u001b[0m \u001b[0mKeyError\u001b[0m\u001b[0;34m(\u001b[0m\u001b[0mkey\u001b[0m\u001b[0;34m)\u001b[0m \u001b[0;32mfrom\u001b[0m \u001b[0merr\u001b[0m\u001b[0;34m\u001b[0m\u001b[0;34m\u001b[0m\u001b[0m\n\u001b[0m\u001b[1;32m   3813\u001b[0m         \u001b[0;32mexcept\u001b[0m \u001b[0mTypeError\u001b[0m\u001b[0;34m:\u001b[0m\u001b[0;34m\u001b[0m\u001b[0;34m\u001b[0m\u001b[0m\n\u001b[1;32m   3814\u001b[0m             \u001b[0;31m# If we have a listlike key, _check_indexing_error will raise\u001b[0m\u001b[0;34m\u001b[0m\u001b[0;34m\u001b[0m\u001b[0m\n",
            "\u001b[0;31mKeyError\u001b[0m: 'canonical_smiles'"
          ]
        }
      ]
    },
    {
      "cell_type": "markdown",
      "source": [
        "Calculate descriptors\n",
        "fingerprints(fp)"
      ],
      "metadata": {
        "id": "eBpxfEVPgDBB"
      }
    },
    {
      "cell_type": "code",
      "source": [
        "#lets look at fingerprints(fp)\n",
        "fp"
      ],
      "metadata": {
        "id": "DwuQCZykgEHM"
      },
      "execution_count": null,
      "outputs": []
    },
    {
      "cell_type": "markdown",
      "source": [
        "import padel-descriptor"
      ],
      "metadata": {
        "id": "EYu0LcDvgh5Y"
      }
    },
    {
      "cell_type": "code",
      "source": [
        "! pip install padelpy"
      ],
      "metadata": {
        "id": "TENRyfkSgi0s"
      },
      "execution_count": null,
      "outputs": []
    },
    {
      "cell_type": "code",
      "source": [
        "from padelpy import padeldescriptor\n",
        "\n",
        "fingerprint = 'Substructure'\n",
        "\n",
        "fingerprint_output_file = ''.join([fingerprint,'.csv']) #Substructure.csv\n",
        "fingerprint_descriptortypes = fp[fingerprint]\n",
        "\n",
        "padeldescriptor(mol_dir='molecule.smi',\n",
        "                d_file=fingerprint_output_file, #'Substructure.csv'\n",
        "                #descriptortypes='SubstructureFingerprint.xml',\n",
        "                descriptortypes= fingerprint_descriptortypes,\n",
        "                detectaromaticity=True,\n",
        "                standardizenitro=True,\n",
        "                standardizetautomers=True,\n",
        "                threads=2,\n",
        "                removesalt=True,\n",
        "                log=True,\n",
        "                fingerprints=True)"
      ],
      "metadata": {
        "id": "TcQ9zl1WgwJv"
      },
      "execution_count": null,
      "outputs": []
    },
    {
      "cell_type": "markdown",
      "source": [
        "Display calculated fingerprints"
      ],
      "metadata": {
        "id": "71D52nasg4Iu"
      }
    },
    {
      "cell_type": "code",
      "source": [
        "descriptors = pd.read_csv(fingerprint_output_file)\n",
        "descriptors"
      ],
      "metadata": {
        "id": "ZdpUq6GWg6fX"
      },
      "execution_count": null,
      "outputs": []
    },
    {
      "cell_type": "code",
      "source": [
        "column_to_add = df[['MLOGP']]\n",
        "descriptors = pd.concat([descriptors, column_to_add], axis=1)\n",
        "descriptors"
      ],
      "metadata": {
        "id": "TVFSSVk0iLkt"
      },
      "execution_count": null,
      "outputs": []
    },
    {
      "cell_type": "code",
      "source": [
        "descriptors1 = descriptors.dropna()\n",
        "descriptors1"
      ],
      "metadata": {
        "id": "GBB8ryAcimuN"
      },
      "execution_count": null,
      "outputs": []
    },
    {
      "cell_type": "markdown",
      "source": [
        "Machine Learning model building"
      ],
      "metadata": {
        "id": "M0hxZLGli7wR"
      }
    },
    {
      "cell_type": "code",
      "source": [
        "X = descriptors1.drop('Name', axis=1)\n",
        "y = df['MLOGP']"
      ],
      "metadata": {
        "id": "rUvKBHOji9A3"
      },
      "execution_count": null,
      "outputs": []
    },
    {
      "cell_type": "markdown",
      "source": [
        "Remove low variance features"
      ],
      "metadata": {
        "id": "URhdyMxQj49s"
      }
    },
    {
      "cell_type": "code",
      "source": [
        "from sklearn.feature_selection import VarianceThreshold\n",
        "\n",
        "def remove_low_variance(input_data, threshold=0.1):\n",
        "    selection = VarianceThreshold(threshold)\n",
        "    selection.fit(input_data)\n",
        "    return input_data[input_data.columns[selection.get_support(indices=True)]]\n",
        "\n",
        "X = remove_low_variance(X, threshold=0.1)\n",
        "X"
      ],
      "metadata": {
        "id": "GcREqnIGj6DG"
      },
      "execution_count": null,
      "outputs": []
    },
    {
      "cell_type": "markdown",
      "source": [
        "Data splitting"
      ],
      "metadata": {
        "id": "AzcByDQFkB2-"
      }
    },
    {
      "cell_type": "code",
      "source": [
        "from sklearn.feature_selection import VarianceThreshold\n",
        "from sklearn.model_selection import train_test_split\n"
      ],
      "metadata": {
        "id": "40pd7jH0kCzc"
      },
      "execution_count": null,
      "outputs": []
    },
    {
      "cell_type": "code",
      "source": [
        "def remove_low_variance(input_data, threshold=0.1):\n",
        "    selection = VarianceThreshold(threshold)\n",
        "    selection.fit(input_data)\n",
        "    return input_data[input_data.columns[selection.get_support(indices=True)]]\n",
        "\n",
        "# Assuming discriptor1 and df are pandas DataFrames and 'MLOGP' is a column in df\n",
        "X = descriptors1.drop('Name', axis=1)\n",
        "y = df['MLOGP']\n",
        "\n",
        "# Perform feature selection on X\n",
        "X = remove_low_variance(X, threshold=0.1)\n",
        "\n",
        "# Ensure that y has the same number of samples as X after feature selection\n",
        "y = y[X.index] # Align y with the filtered X using the index\n",
        "\n",
        "X_train, X_test, y_train, y_test = train_test_split(X, y, test_size=0.2, random_state=100)"
      ],
      "metadata": {
        "id": "q_p0gy3PkO_D"
      },
      "execution_count": null,
      "outputs": []
    },
    {
      "cell_type": "code",
      "source": [
        "X_train"
      ],
      "metadata": {
        "id": "DIFQIl4SkmyO"
      },
      "execution_count": null,
      "outputs": []
    },
    {
      "cell_type": "code",
      "source": [
        "X_test"
      ],
      "metadata": {
        "id": "--cRbTG5kn4R"
      },
      "execution_count": null,
      "outputs": []
    },
    {
      "cell_type": "markdown",
      "source": [
        "Model Building Random Forest"
      ],
      "metadata": {
        "id": "D_i4ICOqkt0X"
      }
    },
    {
      "cell_type": "code",
      "source": [
        "from sklearn.ensemble import RandomForestRegressor # Changed to Regressor\n",
        "from sklearn.metrics import matthews_corrcoef\n",
        "\n",
        "model = RandomForestRegressor(n_estimators=500, random_state=42) # Changed to Regressor\n",
        "model.fit(X_train, y_train)"
      ],
      "metadata": {
        "id": "ak_LqCsok119"
      },
      "execution_count": null,
      "outputs": []
    },
    {
      "cell_type": "markdown",
      "source": [
        "Applying the model to make a prediction\n",
        "\n"
      ],
      "metadata": {
        "id": "Ioulfd2qkw9M"
      }
    },
    {
      "cell_type": "code",
      "source": [
        "y_train_pred = model.predict(X_train)\n",
        "y_test_pred = model.predict(X_test)"
      ],
      "metadata": {
        "id": "lXQSo6Hsk8zT"
      },
      "execution_count": null,
      "outputs": []
    },
    {
      "cell_type": "markdown",
      "source": [
        "Calculate model performance metrics"
      ],
      "metadata": {
        "id": "Ca3cMduAlHcg"
      }
    },
    {
      "cell_type": "code",
      "source": [
        "y_train_pred = model.predict(X_train)\n",
        "y_test_pred = model.predict(X_test)"
      ],
      "metadata": {
        "id": "Yl44SVaTlIj_"
      },
      "execution_count": null,
      "outputs": []
    },
    {
      "cell_type": "code",
      "source": [
        "y_train_pred = (model.predict(X_train) > 3.0).astype(int)\n",
        "y_test_pred = (model.predict(X_test) > 3.0).astype(int)\n",
        "\n",
        "# Convert y_train to binary based on a threshold\n",
        "# Replace 3.0 with the appropriate threshold for your data\n",
        "y_train_binary = (y_train > 3.0).astype(int)\n",
        "\n",
        "mcc_train = matthews_corrcoef(y_train_binary, y_train_pred)\n",
        "mcc_train"
      ],
      "metadata": {
        "id": "_lJkV4lClMlk"
      },
      "execution_count": null,
      "outputs": []
    },
    {
      "cell_type": "code",
      "source": [
        "y_train_pred = (model.predict(X_train) > 3.0).astype(int)\n",
        "y_test_pred = (model.predict(X_test) > 3.0).astype(int)\n",
        "\n",
        "# Convert y_test to binary based on the same threshold used for predictions\n",
        "y_test_binary = (y_test > 3.0).astype(int)\n",
        "\n",
        "mcc_test = matthews_corrcoef(y_test_binary, y_test_pred)\n",
        "mcc_test"
      ],
      "metadata": {
        "id": "as8JLg-flSLj"
      },
      "execution_count": null,
      "outputs": []
    },
    {
      "cell_type": "markdown",
      "source": [
        "Cross-validation"
      ],
      "metadata": {
        "id": "jeo6zLCOlXh4"
      }
    },
    {
      "cell_type": "code",
      "source": [
        "from sklearn.model_selection import cross_val_score\n",
        "from sklearn.ensemble import RandomForestClassifier\n",
        "# Assuming 'y_train' is continuous, use a regression model instead\n",
        "from sklearn.ensemble import RandomForestRegressor\n",
        "\n",
        "rf = RandomForestRegressor(n_estimators=500, random_state=42) # Changed to RandomForestRegressor\n",
        "cv_scores = cross_val_score(rf, X_train, y_train, cv=5)\n",
        "cv_scores"
      ],
      "metadata": {
        "id": "Y8D_WaAAlYcH"
      },
      "execution_count": null,
      "outputs": []
    },
    {
      "cell_type": "code",
      "source": [
        "mcc_cv = cv_scores.mean()\n",
        "mcc_cv"
      ],
      "metadata": {
        "id": "TVQzrcEJldxF"
      },
      "execution_count": null,
      "outputs": []
    },
    {
      "cell_type": "code",
      "source": [
        "model_name = pd.Series(['Random forest'], name='Name')\n",
        "mcc_train_series = pd.Series(mcc_train, name='MCC_train')\n",
        "mcc_cv_series = pd.Series(mcc_cv, name='MCC_cv')\n",
        "mcc_test_series = pd.Series(mcc_test, name='MCC_test')\n",
        "\n",
        "performance_metrics = pd.concat([model_name, mcc_train_series, mcc_cv_series, mcc_test_series], axis=1)\n",
        "performance_metrics"
      ],
      "metadata": {
        "id": "90HQWqWZlhAK"
      },
      "execution_count": null,
      "outputs": []
    },
    {
      "cell_type": "markdown",
      "source": [
        "K-Nearest Neighbors Regressor"
      ],
      "metadata": {
        "id": "U09wBRq-lsDV"
      }
    },
    {
      "cell_type": "code",
      "source": [
        "!pip install scikit-learn"
      ],
      "metadata": {
        "id": "i9-biayGnJhx"
      },
      "execution_count": null,
      "outputs": []
    },
    {
      "cell_type": "code",
      "source": [
        "from sklearn.neighbors import KNeighborsRegressor\n",
        "from sklearn.metrics import mean_squared_error, mean_absolute_error, r2_score\n",
        "\n",
        "# Initialize the KNeighborsRegressor model\n",
        "knn_model = KNeighborsRegressor(n_neighbors=5, weights='uniform')\n",
        "\n",
        "# Train the model\n",
        "knn_model.fit(X_train, y_train)\n",
        "\n",
        "# Make predictions\n",
        "y_train_pred_knn = knn_model.predict(X_train)\n",
        "y_test_pred_knn = knn_model.predict(X_test)"
      ],
      "metadata": {
        "id": "uQOj4upjnNG8"
      },
      "execution_count": null,
      "outputs": []
    },
    {
      "cell_type": "code",
      "source": [
        "# Calculate performance metrics\n",
        "mse_train_knn = mean_squared_error(y_train, y_train_pred_knn)\n",
        "mse_test_knn = mean_squared_error(y_test, y_test_pred_knn)\n",
        "rmse_train_knn = np.sqrt(mse_train_knn)\n",
        "rmse_test_knn = np.sqrt(mse_test_knn)\n",
        "mae_train_knn = mean_absolute_error(y_train, y_train_pred_knn)\n",
        "mae_test_knn = mean_absolute_error(y_test, y_test_pred_knn)\n",
        "r2_train_knn = r2_score(y_train, y_train_pred_knn)\n",
        "r2_test_knn = r2_score(y_test, y_test_pred_knn)"
      ],
      "metadata": {
        "id": "Ofbd_5elnXQW"
      },
      "execution_count": null,
      "outputs": []
    },
    {
      "cell_type": "code",
      "source": [
        "# Print the results\n",
        "print(\"KNeighborsRegressor Model Performance:\")\n",
        "print(\"Training Metrics:\")\n",
        "print(f\"  MSE: {mse_train_knn}\")\n",
        "print(f\"  RMSE: {rmse_train_knn}\")\n",
        "print(f\"  MAE: {mae_train_knn}\")\n",
        "print(f\"  R^2: {r2_train_knn}\")\n",
        "\n",
        "print(\"\\nTesting Metrics:\")\n",
        "print(f\"  MSE: {mse_test_knn}\")\n",
        "print(f\"  RMSE: {rmse_test_knn}\")\n",
        "print(f\"  MAE: {mae_test_knn}\")\n",
        "print(f\"  R^2: {r2_test_knn}\")"
      ],
      "metadata": {
        "id": "Z2OhzqWJne__"
      },
      "execution_count": null,
      "outputs": []
    },
    {
      "cell_type": "code",
      "source": [
        "# Create a Pandas DataFrame to store the results\n",
        "KNR_results = pd.DataFrame(['KNeighborsRegressor Model', mse_train_knn, r2_train_knn, mse_test_knn, r2_test_knn]).transpose() # Fix variable names\n",
        "KNR_results.columns = ['Method', 'Training MSE', 'Training R2', 'Test MSE', 'Test R2'] # Fix typo\n",
        "KNR_results"
      ],
      "metadata": {
        "id": "7ZLpSb_QoJyy"
      },
      "execution_count": null,
      "outputs": []
    },
    {
      "cell_type": "markdown",
      "source": [
        "SVM for Regression"
      ],
      "metadata": {
        "id": "3QQ23PexooLZ"
      }
    },
    {
      "cell_type": "code",
      "source": [
        "from sklearn.svm import SVR\n",
        "from sklearn.metrics import mean_squared_error, mean_absolute_error, r2_score\n",
        "\n",
        "# Initialize the SVR model\n",
        "svr_model = SVR(kernel='rbf', C=1.0, epsilon=0.1)\n",
        "\n",
        "# Train the model\n",
        "svr_model.fit(X_train, y_train)\n"
      ],
      "metadata": {
        "id": "MrHUf8gDopIk"
      },
      "execution_count": null,
      "outputs": []
    },
    {
      "cell_type": "code",
      "source": [
        "# Make predictions\n",
        "y_train_pred_svr = svr_model.predict(X_train)\n",
        "y_test_pred_svr = svr_model.predict(X_test)"
      ],
      "metadata": {
        "id": "oTZySsPTos-K"
      },
      "execution_count": null,
      "outputs": []
    },
    {
      "cell_type": "code",
      "source": [
        "# Calculate performance metrics\n",
        "mse_train_svr = mean_squared_error(y_train, y_train_pred_svr)\n",
        "mse_test_svr = mean_squared_error(y_test, y_test_pred_svr)\n",
        "rmse_train_svr = np.sqrt(mse_train_svr)\n",
        "rmse_test_svr = np.sqrt(mse_test_svr)\n",
        "mae_train_svr = mean_absolute_error(y_train, y_train_pred_svr)\n",
        "mae_test_svr = mean_absolute_error(y_test, y_test_pred_svr)\n",
        "r2_train_svr = r2_score(y_train, y_train_pred_svr)\n",
        "r2_test_svr = r2_score(y_test, y_test_pred_svr)"
      ],
      "metadata": {
        "id": "GCOM80ksowt5"
      },
      "execution_count": null,
      "outputs": []
    },
    {
      "cell_type": "code",
      "source": [
        "# Print the results\n",
        "print(\"SVM Model (SVR) Performance:\")\n",
        "print(\"Training Metrics:\")\n",
        "print(f\"  MSE: {mse_train_svr}\")\n",
        "print(f\"  RMSE: {rmse_train_svr}\")\n",
        "print(f\"  MAE: {mae_train_svr}\")\n",
        "print(f\"  R^2: {r2_train_svr}\")\n",
        "\n",
        "print(\"\\nTesting Metrics:\")\n",
        "print(f\"  MSE: {mse_test_svr}\")\n",
        "print(f\"  RMSE: {rmse_test_svr}\")\n",
        "print(f\"  MAE: {mae_test_svr}\")\n",
        "print(f\"  R^2: {r2_test_svr}\")"
      ],
      "metadata": {
        "id": "NJboebGCozkU"
      },
      "execution_count": null,
      "outputs": []
    },
    {
      "cell_type": "code",
      "source": [
        "svr_model_results = pd.DataFrame(['SVM Model ', mse_train_svr, r2_train_svr, mse_test_svr, r2_test_svr]).transpose() # Fix variable names\n",
        "svr_model_results.columns = ['Method', 'Training MSE', 'Training R2', 'Test MSE', 'Test R2']\n",
        "svr_model_results"
      ],
      "metadata": {
        "id": "qd5RBnTRo5FW"
      },
      "execution_count": null,
      "outputs": []
    },
    {
      "cell_type": "markdown",
      "source": [
        "XGBoost model"
      ],
      "metadata": {
        "id": "uTS2W62qpdP6"
      }
    },
    {
      "cell_type": "code",
      "source": [
        "!pip install xgboost"
      ],
      "metadata": {
        "id": "pbnQLX13piM4"
      },
      "execution_count": null,
      "outputs": []
    },
    {
      "cell_type": "code",
      "source": [
        "import xgboost as xgb\n",
        "from sklearn.metrics import mean_squared_error, mean_absolute_error, r2_score\n",
        "\n",
        "# Initialize the XGBoost Regressor\n",
        "xgb_model = xgb.XGBRegressor(n_estimators=500, random_state=42)\n",
        "\n",
        "# Train the model\n",
        "xgb_model.fit(X_train, y_train)\n"
      ],
      "metadata": {
        "id": "w9JfONHbpkz-"
      },
      "execution_count": null,
      "outputs": []
    },
    {
      "cell_type": "code",
      "source": [
        "# Make predictions\n",
        "y_train_pred_xgb = xgb_model.predict(X_train)\n",
        "y_test_pred_xgb = xgb_model.predict(X_test)"
      ],
      "metadata": {
        "id": "tmMzt08IpplO"
      },
      "execution_count": null,
      "outputs": []
    },
    {
      "cell_type": "code",
      "source": [
        "# Calculate performance metrics\n",
        "mse_train_xgb = mean_squared_error(y_train, y_train_pred_xgb)\n",
        "mse_test_xgb = mean_squared_error(y_test, y_test_pred_xgb)\n",
        "rmse_train_xgb = np.sqrt(mse_train_xgb)\n",
        "rmse_test_xgb = np.sqrt(mse_test_xgb)\n",
        "mae_train_xgb = mean_absolute_error(y_train, y_train_pred_xgb)\n",
        "mae_test_xgb = mean_absolute_error(y_test, y_test_pred_xgb)\n",
        "r2_train_xgb = r2_score(y_train, y_train_pred_xgb)\n",
        "r2_test_xgb = r2_score(y_test, y_test_pred_xgb)"
      ],
      "metadata": {
        "id": "Sw62dS_fpu2e"
      },
      "execution_count": null,
      "outputs": []
    },
    {
      "cell_type": "code",
      "source": [
        "# Print the results\n",
        "print(\"XGBoost Model Performance:\")\n",
        "print(\"Training Metrics:\")\n",
        "print(f\"  MSE: {mse_train_xgb}\")\n",
        "print(f\"  RMSE: {rmse_train_xgb}\")\n",
        "print(f\"  MAE: {mae_train_xgb}\")\n",
        "print(f\"  R^2: {r2_train_xgb}\")\n",
        "\n",
        "print(\"\\nTesting Metrics:\")\n",
        "print(f\"  MSE: {mse_test_xgb}\")\n",
        "print(f\"  RMSE: {rmse_test_xgb}\")\n",
        "print(f\"  MAE: {mae_test_xgb}\")\n",
        "print(f\"  R^2: {r2_test_xgb}\")\n"
      ],
      "metadata": {
        "id": "fljYQuG_pwW4"
      },
      "execution_count": null,
      "outputs": []
    },
    {
      "cell_type": "code",
      "source": [
        "xgb_model_results = pd.DataFrame(['XGBoost Model ', mse_train_xgb, r2_train_xgb, mse_test_xgb, r2_test_xgb]).transpose()\n",
        "xgb_model_results.columns = ['Method', 'Training MSE', 'Training R2', 'Test MSE', 'Test R2']\n",
        "xgb_model_results"
      ],
      "metadata": {
        "id": "wR7fRIAqpzvn"
      },
      "execution_count": null,
      "outputs": []
    },
    {
      "cell_type": "markdown",
      "source": [
        "LightGBM model"
      ],
      "metadata": {
        "id": "7Jo0qrkQqfsM"
      }
    },
    {
      "cell_type": "code",
      "source": [
        "!pip install lightgbm"
      ],
      "metadata": {
        "id": "ugipcGmlqjPM"
      },
      "execution_count": null,
      "outputs": []
    },
    {
      "cell_type": "code",
      "source": [
        "import lightgbm as lgb\n",
        "from sklearn.metrics import mean_squared_error, mean_absolute_error, r2_score\n",
        "\n",
        "# Initialize the LightGBM Regressor\n",
        "lgb_model = lgb.LGBMRegressor(n_estimators=500, random_state=42)\n",
        "# Train the model\n",
        "lgb_model.fit(X_train, y_train)"
      ],
      "metadata": {
        "id": "CG1yDAuXqltN"
      },
      "execution_count": null,
      "outputs": []
    },
    {
      "cell_type": "code",
      "source": [
        "# Make predictions\n",
        "y_train_pred_lgb = lgb_model.predict(X_train)\n",
        "y_test_pred_lgb = lgb_model.predict(X_test)\n"
      ],
      "metadata": {
        "id": "WksyLVFQqo25"
      },
      "execution_count": null,
      "outputs": []
    },
    {
      "cell_type": "code",
      "source": [
        "# Calculate performance metrics\n",
        "mse_train_lgb = mean_squared_error(y_train, y_train_pred_lgb)\n",
        "mse_test_lgb = mean_squared_error(y_test, y_test_pred_lgb)\n",
        "rmse_train_lgb = np.sqrt(mse_train_lgb)\n",
        "rmse_test_lgb = np.sqrt(mse_test_lgb)\n",
        "mae_train_lgb = mean_absolute_error(y_train, y_train_pred_lgb)\n",
        "mae_test_lgb = mean_absolute_error(y_test, y_test_pred_lgb)\n",
        "r2_train_lgb = r2_score(y_train, y_train_pred_lgb)\n",
        "r2_test_lgb = r2_score(y_test, y_test_pred_lgb)"
      ],
      "metadata": {
        "id": "PA30HXTprDly"
      },
      "execution_count": null,
      "outputs": []
    },
    {
      "cell_type": "code",
      "source": [
        "# Print the results\n",
        "print(\"LightGBM Model Performance:\")\n",
        "print(\"Training Metrics:\")\n",
        "print(f\"  MSE: {mse_train_lgb}\")\n",
        "print(f\"  RMSE: {rmse_train_lgb}\")\n",
        "print(f\"  MAE: {mae_train_lgb}\")\n",
        "print(f\"  R^2: {r2_train_lgb}\")\n",
        "\n",
        "print(\"\\nTesting Metrics:\")\n",
        "print(f\"  MSE: {mse_test_lgb}\")\n",
        "print(f\"  RMSE: {rmse_test_lgb}\")\n",
        "print(f\"  MAE: {mae_test_lgb}\")\n",
        "print(f\"  R^2: {r2_test_lgb}\")"
      ],
      "metadata": {
        "id": "vyVrA3ORrG5p"
      },
      "execution_count": null,
      "outputs": []
    },
    {
      "cell_type": "code",
      "source": [
        "lgb_model_results = pd.DataFrame([' LightGBM Model ', mse_train_lgb, r2_train_lgb, mse_test_lgb, r2_test_lgb]).transpose()\n",
        "lgb_model_results.columns = ['Method', 'Training MSE', 'Training R2', 'Test MSE', 'Test R2']\n",
        "lgb_model_results"
      ],
      "metadata": {
        "id": "MYCOLDOWrM-j"
      },
      "execution_count": null,
      "outputs": []
    },
    {
      "cell_type": "markdown",
      "source": [
        "Linear Regression"
      ],
      "metadata": {
        "id": "wC84RHsBrlyb"
      }
    },
    {
      "cell_type": "code",
      "source": [
        "!pip install scikit-learn"
      ],
      "metadata": {
        "id": "ri6lVmG8rp5w"
      },
      "execution_count": null,
      "outputs": []
    },
    {
      "cell_type": "code",
      "source": [
        "from sklearn.linear_model import LinearRegression\n",
        "from sklearn.metrics import mean_squared_error, mean_absolute_error, r2_score\n",
        "\n",
        "# Initialize the Linear Regression model\n",
        "linear_model = LinearRegression()\n",
        "\n",
        "# Train the model\n",
        "linear_model.fit(X_train, y_train)\n",
        "\n",
        "# Make predictions\n",
        "y_train_pred_linear = linear_model.predict(X_train)\n",
        "y_test_pred_linear = linear_model.predict(X_test)\n",
        "\n",
        "# Calculate performance metrics\n",
        "mse_train_linear = mean_squared_error(y_train, y_train_pred_linear)\n",
        "mse_test_linear = mean_squared_error(y_test, y_test_pred_linear)\n",
        "rmse_train_linear = np.sqrt(mse_train_linear)\n",
        "rmse_test_linear = np.sqrt(mse_test_linear)\n",
        "mae_train_linear = mean_absolute_error(y_train, y_train_pred_linear)\n",
        "mae_test_linear = mean_absolute_error(y_test, y_test_pred_linear)\n",
        "r2_train_linear = r2_score(y_train, y_train_pred_linear)\n",
        "r2_test_linear = r2_score(y_test, y_test_pred_linear)\n",
        "\n",
        "# Print the results\n",
        "print(\"Linear Regression Model Performance:\")\n",
        "print(\"Training Metrics:\")\n",
        "print(f\"  MSE: {mse_train_linear}\")\n",
        "print(f\"  RMSE: {rmse_train_linear}\")\n",
        "print(f\"  MAE: {mae_train_linear}\")\n",
        "print(f\"  R^2: {r2_train_linear}\")\n",
        "\n",
        "print(\"\\nTesting Metrics:\")\n",
        "print(f\"  MSE: {mse_test_linear}\")\n",
        "print(f\"  RMSE: {rmse_test_linear}\")\n",
        "print(f\"  MAE: {mae_test_linear}\")\n",
        "print(f\"  R^2: {r2_test_linear}\")"
      ],
      "metadata": {
        "id": "Muceca8ir0MB"
      },
      "execution_count": null,
      "outputs": []
    },
    {
      "cell_type": "code",
      "source": [
        "lr_model_results = pd.DataFrame(['Linear Regression Model ', mse_train_linear, r2_train_linear, mse_test_linear, r2_test_linear]).transpose() # Fix variable names. They should match the names used when calculating the metrics.\n",
        "lr_model_results.columns = ['Method', 'Training MSE', 'Training R2', 'Test MSE', 'Test R2']\n",
        "lr_model_results"
      ],
      "metadata": {
        "id": "E5YNRTXTsdN3"
      },
      "execution_count": null,
      "outputs": []
    },
    {
      "cell_type": "markdown",
      "source": [
        "Decision Tree Regressor"
      ],
      "metadata": {
        "id": "UVC-UrwNsjOH"
      }
    },
    {
      "cell_type": "code",
      "source": [
        "!pip install scikit-learn"
      ],
      "metadata": {
        "id": "XrKCBxwAskYo"
      },
      "execution_count": null,
      "outputs": []
    },
    {
      "cell_type": "code",
      "source": [
        "from sklearn.tree import DecisionTreeRegressor\n",
        "from sklearn.metrics import mean_squared_error, mean_absolute_error, r2_score\n",
        "\n",
        "# Initialize the DecisionTreeRegressor model\n",
        "tree_model = DecisionTreeRegressor(random_state=42, max_depth=None)\n",
        "\n",
        "# Train the model\n",
        "tree_model.fit(X_train, y_train)\n"
      ],
      "metadata": {
        "id": "6f3K-2ZVsm5w"
      },
      "execution_count": null,
      "outputs": []
    },
    {
      "cell_type": "code",
      "source": [
        "# Make predictions\n",
        "y_train_pred_tree = tree_model.predict(X_train)\n",
        "y_test_pred_tree = tree_model.predict(X_test)"
      ],
      "metadata": {
        "id": "Etex-ZCTsrDn"
      },
      "execution_count": null,
      "outputs": []
    },
    {
      "cell_type": "code",
      "source": [
        "# Calculate performance metrics\n",
        "mse_train_tree = mean_squared_error(y_train, y_train_pred_tree)\n",
        "mse_test_tree = mean_squared_error(y_test, y_test_pred_tree)\n",
        "rmse_train_tree = np.sqrt(mse_train_tree)\n",
        "rmse_test_tree = np.sqrt(mse_test_tree)\n",
        "mae_train_tree = mean_absolute_error(y_train, y_train_pred_tree)\n",
        "mae_test_tree = mean_absolute_error(y_test, y_test_pred_tree)\n",
        "r2_train_tree = r2_score(y_train, y_train_pred_tree)\n",
        "r2_test_tree = r2_score(y_test, y_test_pred_tree)"
      ],
      "metadata": {
        "id": "2ouEok4Gswfd"
      },
      "execution_count": null,
      "outputs": []
    },
    {
      "cell_type": "code",
      "source": [
        "# Print the results\n",
        "print(\"DecisionTreeRegressor Model Performance:\")\n",
        "print(\"Training Metrics:\")\n",
        "print(f\"  MSE: {mse_train_tree}\")\n",
        "print(f\"  RMSE: {rmse_train_tree}\")\n",
        "print(f\"  MAE: {mae_train_tree}\")\n",
        "print(f\"  R^2: {r2_train_tree}\")\n",
        "\n",
        "print(\"\\nTesting Metrics:\")\n",
        "print(f\"  MSE: {mse_test_tree}\")\n",
        "print(f\"  RMSE: {rmse_test_tree}\")\n",
        "print(f\"  MAE: {mae_test_tree}\")\n",
        "print(f\"  R^2: {r2_test_tree}\")\n"
      ],
      "metadata": {
        "id": "V92vvAqHs0Hr"
      },
      "execution_count": null,
      "outputs": []
    },
    {
      "cell_type": "code",
      "source": [
        "!pip install pandas\n",
        "import pandas as pd\n",
        "\n",
        "# Create a DataFrame with the correct variable names\n",
        "mse_train_tree_model_results = pd.DataFrame([['DecisionTreeRegressor Model ', mse_train_tree, r2_train_tree, mse_test_tree, r2_test_tree]],\n",
        "                                           columns=['Method', 'Training MSE', 'Training R2', 'Test MSE', 'Test R2'])\n",
        "\n",
        "# Display the DataFrame\n",
        "mse_train_tree_model_results"
      ],
      "metadata": {
        "id": "DMTAE0X7tq_z"
      },
      "execution_count": null,
      "outputs": []
    },
    {
      "cell_type": "code",
      "source": [
        "import matplotlib.pyplot as plt\n",
        "import numpy as np\n",
        "import pandas as pd\n",
        "\n",
        "# Example DataFrame structure for model results\n",
        "# Replace this with your actual results DataFrame after running your models\n",
        "\n",
        "# Example: A DataFrame showing metrics for each model\n",
        "results_df = pd.DataFrame({\n",
        "    'Model': ['Logistic Regression', 'Random Forest', 'SVM', 'KNN', 'Naive Bayes'],\n",
        "    'Accuracy': [0.89, 0.91, 0.92, 0.88, 0.87]\n",
        "})"
      ],
      "metadata": {
        "id": "ZB1dWn49EtEa"
      },
      "execution_count": null,
      "outputs": []
    },
    {
      "cell_type": "code",
      "source": [
        "plt.figure(figsize=(10, 6))\n",
        "plt.bar(results_df['Model'], results_df['Accuracy'], color='skyblue')\n",
        "plt.title('Model Accuracy Comparison')\n",
        "plt.xlabel('Model')\n",
        "plt.ylabel('Accuracy')\n",
        "plt.xticks(rotation=45)\n",
        "plt.ylim(0, 1)  # Accuracy ranges between 0 and 1\n",
        "plt.show()\n"
      ],
      "metadata": {
        "id": "bw_shquqE-2z"
      },
      "execution_count": null,
      "outputs": []
    },
    {
      "cell_type": "code",
      "source": [
        "import matplotlib.pyplot as plt\n",
        "import numpy as np\n",
        "import pandas as pd\n",
        "from sklearn.model_selection import train_test_split\n",
        "from sklearn.linear_model import LinearRegression # Example model\n",
        "from sklearn.metrics import r2_score\n",
        "from sklearn.decomposition import PCA\n",
        "\n",
        "# Assuming X and y are your feature and target data respectively\n",
        "# Split data into training and testing sets\n",
        "X_train, X_test, y_train, y_test = train_test_split(X, y, test_size=0.2, random_state=42) # Adjust test_size and random_state as needed\n",
        "\n",
        "# Initialize and train your model\n",
        "model = LinearRegression() # Replace with your desired model\n",
        "model.fit(X_train, y_train)\n",
        "\n",
        "# Make predictions on the test set\n",
        "y_pred = model.predict(X_test)\n",
        "\n",
        "# Now you can proceed with your plotting code:\n",
        "plt.figure(figsize=(8, 6))\n",
        "plt.scatter(y_test, y_pred, color='blue', edgecolor='k')\n",
        "plt.plot([min(y_test), max(y_test)], [min(y_test), max(y_test)], color='red', lw=2)  # Perfect fit line\n",
        "plt.xlabel('Actual Values')\n",
        "plt.ylabel('Predicted Values')\n",
        "plt.title('Scatter Plot of Actual vs Predicted Values')\n",
        "plt.grid(True)\n",
        "plt.show()\n",
        "\n",
        "# Optional: Calculate R2 score\n",
        "r2 = r2_score(y_test, y_pred)\n",
        "print(f'R2 Score: {r2:.3f}')\n",
        "\n",
        "# Step 6: PCA for visualizing high-dimensional data in 2D\n",
        "# If the descriptors are high-dimensional, you can reduce dimensions for better visualization\n",
        "pca = PCA(n_components=2)\n",
        "X_pca = pca.fit_transform(X)\n",
        "\n",
        "# Scatter plot of the reduced dimensions\n",
        "plt.figure(figsize=(8, 6))\n",
        "plt.scatter(X_pca[:, 0], X_pca[:, 1], c=y, cmap='viridis', edgecolor='k')\n",
        "plt.xlabel('PCA Component 1')\n",
        "plt.ylabel('PCA Component 2')\n",
        "plt.title('2D PCA Visualization of Paddle Descriptors')\n",
        "plt.colorbar(label='Target Values')\n",
        "plt.grid(True)\n",
        "plt.show()"
      ],
      "metadata": {
        "id": "fYrwb38xhu8I"
      },
      "execution_count": null,
      "outputs": []
    },
    {
      "cell_type": "code",
      "source": [
        "# Create a DataFrame with PCA results\n",
        "# Use X_pca from the previous cell as data for the DataFrame, since principal_components is not defined\n",
        "pca_df = pd.DataFrame(data=X_pca, columns=['PC1', 'PC2'])\n",
        "# Use y as the source for labels, since the variable labels is not defined.\n",
        "pca_df['Label'] = y"
      ],
      "metadata": {
        "id": "tSsszhUdjFok"
      },
      "execution_count": null,
      "outputs": []
    },
    {
      "cell_type": "code",
      "source": [
        "# Step 4: Visualize the PCA results\n",
        "plt.figure(figsize=(10, 7))\n",
        "sns.scatterplot(\n",
        "    data=pca_df,\n",
        "    x='PC1',\n",
        "    y='PC2',\n",
        "    hue='Label',  # Color by label\n",
        "    palette='viridis',\n",
        "    s=100,\n",
        "    alpha=0.8\n",
        ")\n",
        "plt.title('PCA Visualization')\n",
        "plt.xlabel('Principal Component 1')\n",
        "plt.ylabel('Principal Component 2')\n",
        "plt.legend(title='Drug Class', bbox_to_anchor=(1.05, 1), loc='upper left')\n",
        "plt.grid(True)\n",
        "plt.show()"
      ],
      "metadata": {
        "id": "WQgd07bNjHdx"
      },
      "execution_count": null,
      "outputs": []
    }
  ]
}